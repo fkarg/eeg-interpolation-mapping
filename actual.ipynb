{
 "cells": [
  {
   "cell_type": "code",
   "execution_count": 24,
   "metadata": {},
   "outputs": [],
   "source": [
    "%matplotlib inline"
   ]
  },
  {
   "cell_type": "code",
   "execution_count": 2,
   "metadata": {},
   "outputs": [
    {
     "name": "stdout",
     "output_type": "stream",
     "text": [
      "Extracting EDF parameters from /home/ced/Coding/EEGLearn/data_gdf/A01T.gdf...\n",
      "GDF file detected\n",
      "Setting channel info structure...\n",
      "Creating raw.info structure...\n"
     ]
    },
    {
     "name": "stderr",
     "output_type": "stream",
     "text": [
      "/home/ced/.local/lib/python3.5/site-packages/mne/io/edf/edf.py:1083: DeprecationWarning: The binary mode of fromstring is deprecated, as it behaves surprisingly on unicode inputs. Use frombuffer instead\n",
      "  etmode = np.fromstring(etmode, np.uint8).tolist()[0]\n",
      "/home/ced/.local/lib/python3.5/site-packages/braindecode/datasets/bcic_iv_2a.py:20: RuntimeWarning: Overlapping events detected. Use find_edf_events for the original events.\n",
      "  raw_edf = mne.io.read_raw_edf(self.filename, stim_channel='auto')\n",
      "/home/ced/.local/lib/python3.5/site-packages/braindecode/datasets/bcic_iv_2a.py:20: RuntimeWarning: Interpolating stim channel. Events may jitter.\n",
      "  raw_edf = mne.io.read_raw_edf(self.filename, stim_channel='auto')\n",
      "/home/ced/.local/lib/python3.5/site-packages/braindecode/datasets/bcic_iv_2a.py:20: RuntimeWarning: Channel names are not unique, found duplicates for: {'EEG'}. Applying running numbers for duplicates.\n",
      "  raw_edf = mne.io.read_raw_edf(self.filename, stim_channel='auto')\n"
     ]
    },
    {
     "name": "stdout",
     "output_type": "stream",
     "text": [
      "Reading 0 ... 672527  =      0.000 ...  2690.108 secs...\n"
     ]
    }
   ],
   "source": [
    "import os\n",
    "\n",
    "import numpy as np\n",
    "import loader as L\n",
    "\n",
    "import matplotlib.pyplot as plt\n",
    "\n",
    "from scipy.interpolate import griddata, interp1d\n",
    "\n",
    "# from __future__ import print_function # (not needed in python3)\n",
    "\n",
    "from scipy.ndimage import rotate\n",
    "\n",
    "from functools import partial\n",
    "from math import sin, cos, pi"
   ]
  },
  {
   "cell_type": "code",
   "execution_count": null,
   "metadata": {},
   "outputs": [],
   "source": []
  },
  {
   "cell_type": "code",
   "execution_count": 26,
   "metadata": {},
   "outputs": [
    {
     "ename": "TypeError",
     "evalue": "'float' object cannot be interpreted as an integer",
     "output_type": "error",
     "traceback": [
      "\u001b[0;31m---------------------------------------------------------------------------\u001b[0m",
      "\u001b[0;31mTypeError\u001b[0m                                 Traceback (most recent call last)",
      "\u001b[0;32m<ipython-input-26-e87e6c6bb9e6>\u001b[0m in \u001b[0;36m<module>\u001b[0;34m()\u001b[0m\n\u001b[0;32m----> 1\u001b[0;31m \u001b[0mimages\u001b[0m \u001b[0;34m=\u001b[0m \u001b[0minterpolate\u001b[0m\u001b[0;34m(\u001b[0m\u001b[0mlocs\u001b[0m\u001b[0;34m,\u001b[0m \u001b[0mfeatures\u001b[0m\u001b[0;34m,\u001b[0m \u001b[0mgridsize\u001b[0m\u001b[0;34m)\u001b[0m\u001b[0;34m\u001b[0m\u001b[0m\n\u001b[0m",
      "\u001b[0;32m<ipython-input-9-239dc1fd2da4>\u001b[0m in \u001b[0;36minterpolate\u001b[0;34m(locs, features, n_gridpoints)\u001b[0m\n\u001b[1;32m     24\u001b[0m     \u001b[0;32massert\u001b[0m \u001b[0mfeatures\u001b[0m\u001b[0;34m.\u001b[0m\u001b[0mshape\u001b[0m\u001b[0;34m[\u001b[0m\u001b[0;36m1\u001b[0m\u001b[0;34m]\u001b[0m \u001b[0;34m%\u001b[0m \u001b[0mnElectrodes\u001b[0m \u001b[0;34m==\u001b[0m \u001b[0;36m0\u001b[0m\u001b[0;34m\u001b[0m\u001b[0m\n\u001b[1;32m     25\u001b[0m     \u001b[0mn_colors\u001b[0m \u001b[0;34m=\u001b[0m \u001b[0mfeatures\u001b[0m\u001b[0;34m.\u001b[0m\u001b[0mshape\u001b[0m\u001b[0;34m[\u001b[0m\u001b[0;36m1\u001b[0m\u001b[0;34m]\u001b[0m \u001b[0;34m/\u001b[0m \u001b[0mnElectrodes\u001b[0m\u001b[0;34m\u001b[0m\u001b[0m\n\u001b[0;32m---> 26\u001b[0;31m     \u001b[0;32mfor\u001b[0m \u001b[0mc\u001b[0m \u001b[0;32min\u001b[0m \u001b[0mrange\u001b[0m\u001b[0;34m(\u001b[0m\u001b[0mn_colors\u001b[0m\u001b[0;34m)\u001b[0m\u001b[0;34m:\u001b[0m\u001b[0;34m\u001b[0m\u001b[0m\n\u001b[0m\u001b[1;32m     27\u001b[0m         \u001b[0mfeat_array_temp\u001b[0m\u001b[0;34m.\u001b[0m\u001b[0mappend\u001b[0m\u001b[0;34m(\u001b[0m\u001b[0mcut\u001b[0m\u001b[0;34m(\u001b[0m\u001b[0mfeatures\u001b[0m\u001b[0;34m[\u001b[0m\u001b[0;34m:\u001b[0m\u001b[0;34m,\u001b[0m \u001b[0mc\u001b[0m \u001b[0;34m*\u001b[0m \u001b[0mnElectrodes\u001b[0m \u001b[0;34m:\u001b[0m \u001b[0mnElectrodes\u001b[0m \u001b[0;34m*\u001b[0m \u001b[0;34m(\u001b[0m\u001b[0mc\u001b[0m\u001b[0;34m+\u001b[0m\u001b[0;36m1\u001b[0m\u001b[0;34m)\u001b[0m\u001b[0;34m]\u001b[0m\u001b[0;34m)\u001b[0m\u001b[0;34m)\u001b[0m\u001b[0;34m\u001b[0m\u001b[0m\n\u001b[1;32m     28\u001b[0m     \u001b[0mnSamples\u001b[0m \u001b[0;34m=\u001b[0m \u001b[0mfeatures\u001b[0m\u001b[0;34m.\u001b[0m\u001b[0mshape\u001b[0m\u001b[0;34m[\u001b[0m\u001b[0;36m0\u001b[0m\u001b[0;34m]\u001b[0m\u001b[0;34m\u001b[0m\u001b[0m\n",
      "\u001b[0;31mTypeError\u001b[0m: 'float' object cannot be interpreted as an integer"
     ]
    }
   ],
   "source": [
    "images = interpolate(locs, features, gridsize)"
   ]
  },
  {
   "cell_type": "code",
   "execution_count": null,
   "metadata": {},
   "outputs": [],
   "source": []
  },
  {
   "cell_type": "code",
   "execution_count": null,
   "metadata": {},
   "outputs": [],
   "source": []
  },
  {
   "cell_type": "code",
   "execution_count": null,
   "metadata": {},
   "outputs": [],
   "source": []
  },
  {
   "cell_type": "code",
   "execution_count": 3,
   "metadata": {},
   "outputs": [],
   "source": [
    "\n",
    "locs = [[ 35.5,  -0.1 ],    # Fz\n",
    "        [ 12.2,  56.16],    # FC3\n",
    "        [  9.9,  27.6 ],    # FC1\n",
    "        [  9.4,  -0.1 ],    # FCz\n",
    "        [ 10.5, -28.32],    # FC2\n",
    "        [ 13  , -57   ],    # FC4\n",
    "        [-15.1,  87.48],    # C5\n",
    "        [-16.2,  57.48],    # C3\n",
    "        [-16.5,  28.44],    # C1\n",
    "        [-16.8, - 0.1 ],    # Cz\n",
    "        [-16.3, -29.64],    # C2\n",
    "        [-15.5, -58.68],    # C4\n",
    "        [-14.1, -87.6 ],    # C6\n",
    "        [-40.9,  53.16],    # CP3\n",
    "        [-39.3,  26.4 ],    # CP1\n",
    "        [-39.3, - 0.12],    # CPz\n",
    "        [-38.9, -27.84],    # CP2\n",
    "        [-40.2, -54.24],    # CP4\n",
    "        [-65.5,  22.08],    # P1\n",
    "        [-63.8, - 0.12],    # Pz\n",
    "        [-65.1, -23.28],    # P2\n",
    "        [-79.7, - 0.1 ]]    # POz\n",
    "\n",
    "locs = np.array(locs)\n",
    "\n",
    "channel_labels = ['Fz'\n",
    "        , 'FC3'\n",
    "        , 'FC1'\n",
    "        , 'FCz'\n",
    "        , 'FC2'\n",
    "        , 'FC4'\n",
    "        , 'C5'\n",
    "        , 'C3'\n",
    "        , 'C1'\n",
    "        , 'Cz'\n",
    "        , 'C2'\n",
    "        , 'C4'\n",
    "        , 'C6'\n",
    "        , 'CP3'\n",
    "        , 'CP1'\n",
    "        , 'CPz'\n",
    "        , 'CP2'\n",
    "        , 'CP4'\n",
    "        , 'P1'\n",
    "        , 'Pz'\n",
    "        , 'P3'\n",
    "        , 'POz'\n",
    "        ]\n",
    "\n",
    "\n",
    "gridsize = 32\n",
    "\n",
    "\n",
    "\n",
    "features = L.train_set.X\n",
    "labels = L.train_set.y\n"
   ]
  },
  {
   "cell_type": "code",
   "execution_count": null,
   "metadata": {},
   "outputs": [],
   "source": []
  },
  {
   "cell_type": "code",
   "execution_count": null,
   "metadata": {},
   "outputs": [],
   "source": [
    "# this now is a function, to find out min/max values of lists."
   ]
  },
  {
   "cell_type": "code",
   "execution_count": 1,
   "metadata": {},
   "outputs": [],
   "source": [
    "def minmax(l: list) -> tuple:\n",
    "    assert len(l) > 0\n",
    "    minval = l[0]\n",
    "    maxval = l[0]\n",
    "    for v in l:\n",
    "        if v > maxval:\n",
    "            maxval = v\n",
    "        if v < minval:\n",
    "            minval = v\n",
    "    return (minval, maxval)"
   ]
  },
  {
   "cell_type": "code",
   "execution_count": 9,
   "metadata": {},
   "outputs": [],
   "source": [
    "def fst(l: list) -> list:\n",
    "    return list(map(lambda v: v[0], l))\n",
    "\n",
    "def snd(l: list) -> list:\n",
    "    return list(map(lambda v: v[1], l))"
   ]
  },
  {
   "cell_type": "code",
   "execution_count": 12,
   "metadata": {},
   "outputs": [
    {
     "data": {
      "text/plain": [
       "((-79.7, 35.5), (-87.6, 87.48))"
      ]
     },
     "execution_count": 12,
     "metadata": {},
     "output_type": "execute_result"
    }
   ],
   "source": [
    "minmax(fst(locs)), minmax(snd(locs))"
   ]
  },
  {
   "cell_type": "code",
   "execution_count": 13,
   "metadata": {},
   "outputs": [
    {
     "data": {
      "text/plain": [
       "1.519097222222222"
      ]
     },
     "execution_count": 13,
     "metadata": {},
     "output_type": "execute_result"
    }
   ],
   "source": [
    "(87.5 * 2) / (79.7 + 35.5)"
   ]
  },
  {
   "cell_type": "code",
   "execution_count": null,
   "metadata": {},
   "outputs": [],
   "source": []
  },
  {
   "cell_type": "code",
   "execution_count": 14,
   "metadata": {},
   "outputs": [],
   "source": [
    "locsn = list(zip(map(lambda x: x * 1.519, fst(locs)), snd(locs)))"
   ]
  },
  {
   "cell_type": "code",
   "execution_count": 15,
   "metadata": {},
   "outputs": [
    {
     "data": {
      "text/plain": [
       "[(53.924499999999995, -0.1),\n",
       " (18.531799999999997, 56.16),\n",
       " (15.0381, 27.6),\n",
       " (14.278599999999999, -0.1),\n",
       " (15.949499999999999, -28.32),\n",
       " (19.747, -57.0),\n",
       " (-22.936899999999998, 87.48),\n",
       " (-24.607799999999997, 57.48),\n",
       " (-25.063499999999998, 28.44),\n",
       " (-25.519199999999998, -0.1),\n",
       " (-24.7597, -29.64),\n",
       " (-23.5445, -58.68),\n",
       " (-21.4179, -87.6),\n",
       " (-62.12709999999999, 53.16),\n",
       " (-59.69669999999999, 26.4),\n",
       " (-59.69669999999999, -0.12),\n",
       " (-59.089099999999995, -27.84),\n",
       " (-61.0638, -54.24),\n",
       " (-99.49449999999999, 22.08),\n",
       " (-96.91219999999998, -0.12),\n",
       " (-98.88689999999998, -23.28),\n",
       " (-121.0643, -0.1)]"
      ]
     },
     "execution_count": 15,
     "metadata": {},
     "output_type": "execute_result"
    }
   ],
   "source": [
    "locsn"
   ]
  },
  {
   "cell_type": "code",
   "execution_count": null,
   "metadata": {},
   "outputs": [],
   "source": []
  },
  {
   "cell_type": "code",
   "execution_count": null,
   "metadata": {},
   "outputs": [],
   "source": [
    "# testing rotation (and rescaling to square) before actually adding it to the code."
   ]
  },
  {
   "cell_type": "code",
   "execution_count": 17,
   "metadata": {},
   "outputs": [],
   "source": [
    "def rotate2D(point: list) -> list:\n",
    "    degree = (45 * 2 * pi) / 360\n",
    "    return [point[0] * cos(degree) - point[1] * sin(degree), point[0] * sin(degree) + point[1] * cos(degree)]"
   ]
  },
  {
   "cell_type": "code",
   "execution_count": 18,
   "metadata": {},
   "outputs": [],
   "source": [
    "locsr = np.array(list(map(rotate2D, locsn)))"
   ]
  },
  {
   "cell_type": "code",
   "execution_count": 19,
   "metadata": {},
   "outputs": [
    {
     "data": {
      "text/plain": [
       "array([[ 38.2010903 ,  38.05966894],\n",
       "       [-26.60715538,  52.81507828],\n",
       "       [ -8.88260467,  30.14968965],\n",
       "       [ 10.16720556,  10.02578421],\n",
       "       [ 31.30326365,  -8.74726444],\n",
       "       [ 54.26832414, -26.34184892],\n",
       "       [-78.07653875,  45.63886369],\n",
       "       [-58.04484003,  23.24415553],\n",
       "       [-37.83268767,   2.38754605],\n",
       "       [-17.97408869, -18.11551005],\n",
       "       [  3.45089322, -38.46639676],\n",
       "       [ 24.84455031, -58.14150153],\n",
       "       [ 46.7978117 , -77.08729636],\n",
       "       [-81.52029019,  -6.34069722],\n",
       "       [-60.87956041, -23.54432236],\n",
       "       [-42.12708857, -42.2967942 ],\n",
       "       [-22.09645052, -61.46815609],\n",
       "       [ -4.82515525, -81.53209888],\n",
       "       [-85.96615337, -54.74031791],\n",
       "       [-68.44242099, -68.61212661],\n",
       "       [-53.46215169, -86.38504343],\n",
       "       [-85.53467681, -85.67609817]])"
      ]
     },
     "execution_count": 19,
     "metadata": {},
     "output_type": "execute_result"
    }
   ],
   "source": [
    "locsr"
   ]
  },
  {
   "cell_type": "code",
   "execution_count": 69,
   "metadata": {},
   "outputs": [
    {
     "data": {
      "text/plain": [
       "array([[ 35.5 ,  -0.1 ],\n",
       "       [ 12.2 ,  56.16],\n",
       "       [  9.9 ,  27.6 ],\n",
       "       [  9.4 ,  -0.1 ],\n",
       "       [ 10.5 , -28.32],\n",
       "       [ 13.  , -57.  ],\n",
       "       [-15.1 ,  87.48],\n",
       "       [-16.2 ,  57.48],\n",
       "       [-16.5 ,  28.44],\n",
       "       [-16.8 ,  -0.1 ],\n",
       "       [-16.3 , -29.64],\n",
       "       [-15.5 , -58.68],\n",
       "       [-14.1 , -87.6 ],\n",
       "       [-40.9 ,  53.16],\n",
       "       [-39.3 ,  26.4 ],\n",
       "       [-39.3 ,  -0.12],\n",
       "       [-38.9 , -27.84],\n",
       "       [-40.2 , -54.24],\n",
       "       [-65.5 ,  22.08],\n",
       "       [-63.8 ,  -0.12],\n",
       "       [-65.1 , -23.28],\n",
       "       [-79.7 ,  -0.1 ]])"
      ]
     },
     "execution_count": 69,
     "metadata": {},
     "output_type": "execute_result"
    }
   ],
   "source": [
    "locs"
   ]
  },
  {
   "cell_type": "code",
   "execution_count": 20,
   "metadata": {},
   "outputs": [],
   "source": [
    "from functools import partial\n",
    "from math import sin, cos, pi"
   ]
  },
  {
   "cell_type": "code",
   "execution_count": null,
   "metadata": {},
   "outputs": [],
   "source": []
  },
  {
   "cell_type": "code",
   "execution_count": 21,
   "metadata": {},
   "outputs": [],
   "source": [
    "# def gen_images(locs, features, n_gridpoints, normalize=True,\n",
    "#                augment=False, pca=False, std_mult=0.1, n_components=2, edgeless=False):\n",
    "# needs defined: locs, features, n_gridpoints\n",
    "\n",
    "def interpolate(locs, features, n_gridpoints):\n",
    "    \"\"\"\n",
    "    Generates EEG images given electrode locations in 2D space and multiple feature values for each electrode\n",
    "\n",
    "    :param locs: An array with shape [n_electrodes, 2] containing X, Y coordinates for each electrode.\n",
    "    :param features: Feature matrix as [n_samples, n_features]\n",
    "                        Features are as columns.\n",
    "                        Features corresponding to each frequency band are concatenated.\n",
    "                        (alpha1, alpha2, ..., beta1, beta2,...)\n",
    "    :param n_gridpoints: Number of pixels in the output images\n",
    "    :return:            Tensor of size [samples, colors, W, H] containing generated\n",
    "                        images.\n",
    "    \"\"\"\n",
    "    \n",
    "    cut = lambda a: a if len(a.shape) < 3 else a[:, :, 0]\n",
    "    \n",
    "    feat_array_temp = []\n",
    "    nElectrodes = locs.shape[0]     # Number of electrodes\n",
    "    # Test whether the feature vector length is divisible by number of electrodes\n",
    "    assert features.shape[1] % nElectrodes == 0\n",
    "    n_colors = int(features.shape[1] / nElectrodes)\n",
    "    for c in range(n_colors):\n",
    "        feat_array_temp.append(cut(features[:, c * nElectrodes : nElectrodes * (c+1)]))\n",
    "    nSamples = features.shape[0]\n",
    "    # getting some surrounding values right\n",
    "    grid_x, grid_y = np.mgrid[\n",
    "                     min(locs[:, 0]):max(locs[:, 0]):n_gridpoints*1j,\n",
    "                     min(locs[:, 1]):max(locs[:, 1]):n_gridpoints*1j\n",
    "                     ]\n",
    "    temp_interp = []\n",
    "    for c in range(n_colors):\n",
    "        temp_interp.append(np.zeros([nSamples, n_gridpoints, n_gridpoints]))\n",
    "    # Interpolating\n",
    "    for i in range(nSamples):\n",
    "        for c in range(n_colors):\n",
    "            temp_interp[c][i, :, :] = cut(griddata(locs, feat_array_temp[c][i, :], (grid_x, grid_y),\n",
    "                                    method='cubic', fill_value=np.nan))\n",
    "    #                                 method='cubic', fill_value=np.nan)# [:, :, 0]\n",
    "    #                                 method='cubic', fill_value=np.nan)\n",
    "        print('Interpolating {0}/{1}\\r'.format(i+1, nSamples), end='\\r')\n",
    "    images = np.swapaxes(np.asarray(temp_interp), 0, 1)     # swap axes to have [samples, colors, W, H]\n",
    "    return images"
   ]
  },
  {
   "cell_type": "code",
   "execution_count": 22,
   "metadata": {},
   "outputs": [
    {
     "name": "stdout",
     "output_type": "stream",
     "text": [
      "Interpolating 288/288Interpolating 266/288"
     ]
    }
   ],
   "source": [
    "images = interpolate(locsr, features, gridsize)"
   ]
  },
  {
   "cell_type": "code",
   "execution_count": null,
   "metadata": {},
   "outputs": [],
   "source": []
  },
  {
   "cell_type": "code",
   "execution_count": null,
   "metadata": {},
   "outputs": [],
   "source": []
  },
  {
   "cell_type": "code",
   "execution_count": null,
   "metadata": {},
   "outputs": [],
   "source": []
  },
  {
   "cell_type": "code",
   "execution_count": 23,
   "metadata": {},
   "outputs": [],
   "source": [
    "mx = interp1d([-85, 42], [0, gridsize])\n",
    "my = interp1d([-90, 108], [0, gridsize])"
   ]
  },
  {
   "cell_type": "code",
   "execution_count": null,
   "metadata": {},
   "outputs": [],
   "source": [
    "images2 = images[:]"
   ]
  },
  {
   "cell_type": "code",
   "execution_count": null,
   "metadata": {},
   "outputs": [],
   "source": []
  },
  {
   "cell_type": "code",
   "execution_count": 28,
   "metadata": {},
   "outputs": [
    {
     "name": "stdout",
     "output_type": "stream",
     "text": [
      "Saving 287/288ving 5/288Saving 7/288Saving 9/288Saving 11/288Saving 13/288Saving 15/288Saving 17/288Saving 19/288Saving 21/288Saving 23/288Saving 25/288Saving 27/288Saving 29/288Saving 31/288Saving 33/288Saving 35/288Saving 37/288Saving 39/288Saving 41/288Saving 43/288Saving 45/288Saving 47/288Saving 49/288Saving 51/288Saving 53/288Saving 55/288Saving 57/288Saving 58/288Saving 60/288Saving 62/288Saving 64/288Saving 66/288Saving 68/288Saving 70/288Saving 72/288Saving 74/288Saving 76/288Saving 78/288Saving 80/288Saving 82/288Saving 84/288Saving 86/288Saving 88/288Saving 89/288Saving 91/288Saving 93/288Saving 95/288Saving 97/288Saving 99/288Saving 101/288Saving 103/288Saving 105/288Saving 107/288Saving 109/288Saving 111/288Saving 113/288Saving 115/288Saving 117/288Saving 119/288Saving 121/288Saving 123/288Saving 125/288Saving 127/288Saving 129/288Saving 131/288Saving 133/288Saving 135/288Saving 137/288Saving 139/288Saving 141/288Saving 143/288Saving 145/288Saving 147/288Saving 149/288Saving 151/288Saving 153/288Saving 155/288Saving 157/288Saving 159/288Saving 161/288Saving 163/288Saving 165/288Saving 167/288Saving 169/288Saving 171/288Saving 173/288Saving 175/288Saving 177/288Saving 179/288Saving 181/288Saving 183/288Saving 185/288Saving 187/288Saving 189/288Saving 191/288Saving 193/288Saving 195/288Saving 197/288Saving 199/288Saving 201/288Saving 203/288Saving 205/288Saving 207/288Saving 209/288Saving 211/288Saving 213/288Saving 215/288Saving 217/288Saving 219/288Saving 221/288Saving 223/288Saving 225/288Saving 227/288Saving 229/288Saving 231/288Saving 233/288Saving 234/288Saving 236/288Saving 238/288Saving 240/288Saving 242/288Saving 244/288Saving 246/288Saving 248/288Saving 250/288Saving 252/288Saving 254/288Saving 256/288Saving 258/288Saving 260/288Saving 262/288Saving 264/288Saving 266/288Saving 268/288Saving 270/288Saving 272/288Saving 274/288Saving 276/288Saving 278/288Saving 280/288Saving 282/288Saving 284/288Saving 286/288Saving 288/288"
     ]
    }
   ],
   "source": [
    "for i in range(images.shape[0]):\n",
    "    print('Saving {0}/{1}\\r'.format(i+1, images.shape[0]), end='\\r')\n",
    "    # for i in range(22):\n",
    "    #     plt.text(my(locsr[i][1]), mx(locsr[i][0]), channel_labels[i])\n",
    "    plt.imshow(images[i,0,:,:], cmap='RdYlBu', interpolation='bilinear')\n",
    "    plt.savefig(os.path.join('images3/','%d.png' % i))\n",
    "    plt.close()"
   ]
  },
  {
   "cell_type": "code",
   "execution_count": null,
   "metadata": {},
   "outputs": [],
   "source": []
  },
  {
   "cell_type": "code",
   "execution_count": null,
   "metadata": {},
   "outputs": [],
   "source": []
  },
  {
   "cell_type": "code",
   "execution_count": null,
   "metadata": {},
   "outputs": [],
   "source": []
  },
  {
   "cell_type": "code",
   "execution_count": null,
   "metadata": {},
   "outputs": [],
   "source": [
    "i = 0\n",
    "plt.imshow(rotate(images[i,0,:,:], 45, cval=np.nan, prefilter=False), cmap='RdYlBu')\n",
    "plt.savefig(os.path.join('images4/','%d.png' % i))\n",
    "plt.show()\n",
    "plt.close()\n",
    "plt.imshow(images[i,0,:,:], cmap='RdYlBu')\n",
    "plt.show()\n",
    "plt.close()\n",
    "# plt.savefig(os.path.join('images4/','%d.png' % i))\n",
    "# plt.close()"
   ]
  },
  {
   "cell_type": "code",
   "execution_count": null,
   "metadata": {},
   "outputs": [],
   "source": []
  },
  {
   "cell_type": "code",
   "execution_count": null,
   "metadata": {},
   "outputs": [],
   "source": []
  },
  {
   "cell_type": "code",
   "execution_count": null,
   "metadata": {},
   "outputs": [],
   "source": []
  }
 ],
 "metadata": {
  "kernelspec": {
   "display_name": "Python 3",
   "language": "python",
   "name": "python3"
  },
  "language_info": {
   "codemirror_mode": {
    "name": "ipython",
    "version": 3
   },
   "file_extension": ".py",
   "mimetype": "text/x-python",
   "name": "python",
   "nbconvert_exporter": "python",
   "pygments_lexer": "ipython3",
   "version": "3.5.2"
  }
 },
 "nbformat": 4,
 "nbformat_minor": 1
}
