{
 "cells": [
  {
   "cell_type": "code",
   "execution_count": 15,
   "metadata": {},
   "outputs": [],
   "source": [
    "%matplotlib inline\n",
    "\n",
    "import matplotlib\n",
    "import matplotlib.pyplot as plt"
   ]
  },
  {
   "cell_type": "code",
   "execution_count": 2,
   "metadata": {},
   "outputs": [
    {
     "name": "stdout",
     "output_type": "stream",
     "text": [
      "Extracting EDF parameters from /home/ced/Coding/EEGLearn/data_gdf/A01T.gdf...\n",
      "GDF file detected\n",
      "Setting channel info structure...\n",
      "Creating raw.info structure...\n",
      "Reading 0 ... 672527  =      0.000 ...  2690.108 secs...\n"
     ]
    },
    {
     "name": "stderr",
     "output_type": "stream",
     "text": [
      "/home/ced/.local/lib/python3.6/site-packages/mne/io/edf/edf.py:1086: DeprecationWarning: The binary mode of fromstring is deprecated, as it behaves surprisingly on unicode inputs. Use frombuffer instead\n",
      "  etmode = np.fromstring(etmode, np.uint8).tolist()[0]\n",
      "/home/ced/.local/lib/python3.6/site-packages/braindecode/datasets/bcic_iv_2a.py:20: RuntimeWarning: Overlapping events detected. Use find_edf_events for the original events.\n",
      "  raw_edf = mne.io.read_raw_edf(self.filename, stim_channel='auto')\n",
      "/home/ced/.local/lib/python3.6/site-packages/braindecode/datasets/bcic_iv_2a.py:20: RuntimeWarning: Interpolating stim channel. Events may jitter.\n",
      "  raw_edf = mne.io.read_raw_edf(self.filename, stim_channel='auto')\n",
      "/home/ced/.local/lib/python3.6/site-packages/braindecode/datasets/bcic_iv_2a.py:20: RuntimeWarning: Channel names are not unique, found duplicates for: {'EEG'}. Applying running numbers for duplicates.\n",
      "  raw_edf = mne.io.read_raw_edf(self.filename, stim_channel='auto')\n"
     ]
    }
   ],
   "source": [
    "import os\n",
    "\n",
    "import numpy as np\n",
    "import loader as L\n",
    "\n",
    "\n",
    "from scipy.interpolate import griddata, interp1d\n",
    "\n",
    "# from __future__ import print_function # (not needed in python3)\n",
    "\n",
    "from scipy.ndimage import rotate\n",
    "\n",
    "from functools import partial\n",
    "from math import sin, cos, pi"
   ]
  },
  {
   "cell_type": "code",
   "execution_count": null,
   "metadata": {},
   "outputs": [],
   "source": []
  },
  {
   "cell_type": "code",
   "execution_count": null,
   "metadata": {},
   "outputs": [],
   "source": []
  },
  {
   "cell_type": "code",
   "execution_count": null,
   "metadata": {},
   "outputs": [],
   "source": []
  },
  {
   "cell_type": "code",
   "execution_count": null,
   "metadata": {},
   "outputs": [],
   "source": []
  },
  {
   "cell_type": "code",
   "execution_count": null,
   "metadata": {},
   "outputs": [],
   "source": []
  },
  {
   "cell_type": "code",
   "execution_count": 21,
   "metadata": {},
   "outputs": [],
   "source": [
    "\n",
    "locs = [[ 35.5,  -0.1 ],    # Fz\n",
    "        [ 12.2,  56.16],    # FC3\n",
    "        [  9.9,  27.6 ],    # FC1\n",
    "        [  9.4,  -0.1 ],    # FCz\n",
    "        [ 10.5, -28.32],    # FC2\n",
    "        [ 13  , -57   ],    # FC4\n",
    "        [-15.1,  87.48],    # C5\n",
    "        [-16.2,  57.48],    # C3\n",
    "        [-16.5,  28.44],    # C1\n",
    "        [-16.8, - 0.1 ],    # Cz\n",
    "        [-16.3, -29.64],    # C2\n",
    "        [-15.5, -58.68],    # C4\n",
    "        [-14.1, -87.6 ],    # C6\n",
    "        [-40.9,  53.16],    # CP3\n",
    "        [-39.3,  26.4 ],    # CP1\n",
    "        [-39.3, - 0.12],    # CPz\n",
    "        [-38.9, -27.84],    # CP2\n",
    "        [-40.2, -54.24],    # CP4\n",
    "        [-65.5,  22.08],    # P1\n",
    "        [-63.8, - 0.12],    # Pz\n",
    "        [-65.1, -23.28],    # P2\n",
    "        [-79.7, - 0.1 ]]    # POz\n",
    "\n",
    "locs = np.array(locs)\n",
    "\n",
    "channel_labels = ['Fz'\n",
    "        , 'FC3'\n",
    "        , 'FC1'\n",
    "        , 'FCz'\n",
    "        , 'FC2'\n",
    "        , 'FC4'\n",
    "        , 'C5'\n",
    "        , 'C3'\n",
    "        , 'C1'\n",
    "        , 'Cz'\n",
    "        , 'C2'\n",
    "        , 'C4'\n",
    "        , 'C6'\n",
    "        , 'CP3'\n",
    "        , 'CP1'\n",
    "        , 'CPz'\n",
    "        , 'CP2'\n",
    "        , 'CP4'\n",
    "        , 'P1'\n",
    "        , 'Pz'\n",
    "        , 'P2'\n",
    "        , 'POz'\n",
    "        ]\n",
    "\n",
    "\n",
    "gridsize = 32\n",
    "\n",
    "\n",
    "\n",
    "features = L.train_set.X\n",
    "labels = L.train_set.y\n"
   ]
  },
  {
   "cell_type": "code",
   "execution_count": null,
   "metadata": {},
   "outputs": [],
   "source": []
  },
  {
   "cell_type": "code",
   "execution_count": 9,
   "metadata": {},
   "outputs": [
    {
     "data": {
      "text/plain": [
       "'POz'"
      ]
     },
     "execution_count": 9,
     "metadata": {},
     "output_type": "execute_result"
    }
   ],
   "source": [
    "# channel_labels[0]  # highest\n",
    "# channel_labels[6]  # leftmost\n",
    "# channel_labels[12] # rightmost\n",
    "# channel_labels[21] # lowest"
   ]
  },
  {
   "cell_type": "code",
   "execution_count": null,
   "metadata": {},
   "outputs": [],
   "source": []
  },
  {
   "cell_type": "code",
   "execution_count": null,
   "metadata": {},
   "outputs": [],
   "source": []
  },
  {
   "cell_type": "code",
   "execution_count": null,
   "metadata": {},
   "outputs": [],
   "source": [
    "# this now is a function, to find out min/max values of lists."
   ]
  },
  {
   "cell_type": "code",
   "execution_count": 4,
   "metadata": {},
   "outputs": [],
   "source": [
    "def minmax(l: list) -> tuple:\n",
    "    assert len(l) > 0\n",
    "    minval = l[0]\n",
    "    maxval = l[0]\n",
    "    for v in l:\n",
    "        if v > maxval:\n",
    "            maxval = v\n",
    "        if v < minval:\n",
    "            minval = v\n",
    "    return (minval, maxval)"
   ]
  },
  {
   "cell_type": "code",
   "execution_count": 5,
   "metadata": {},
   "outputs": [],
   "source": [
    "def fst(l: list) -> list:\n",
    "    return list(map(lambda v: v[0], l))\n",
    "\n",
    "def snd(l: list) -> list:\n",
    "    return list(map(lambda v: v[1], l))"
   ]
  },
  {
   "cell_type": "code",
   "execution_count": 14,
   "metadata": {},
   "outputs": [
    {
     "data": {
      "text/plain": [
       "((-79.7, 35.5), (-87.6, 87.48))"
      ]
     },
     "execution_count": 14,
     "metadata": {},
     "output_type": "execute_result"
    }
   ],
   "source": [
    "minmax(fst(locs)), minmax(snd(locs))"
   ]
  },
  {
   "cell_type": "code",
   "execution_count": 13,
   "metadata": {},
   "outputs": [
    {
     "data": {
      "text/plain": [
       "1.519097222222222"
      ]
     },
     "execution_count": 13,
     "metadata": {},
     "output_type": "execute_result"
    }
   ],
   "source": [
    "(87.5 * 2) / (79.7 + 35.5)"
   ]
  },
  {
   "cell_type": "code",
   "execution_count": 34,
   "metadata": {},
   "outputs": [
    {
     "data": {
      "text/plain": [
       "-22.1"
      ]
     },
     "execution_count": 34,
     "metadata": {},
     "output_type": "execute_result"
    }
   ],
   "source": [
    "(-79.7 + 35.5) / 2"
   ]
  },
  {
   "cell_type": "code",
   "execution_count": null,
   "metadata": {},
   "outputs": [],
   "source": []
  },
  {
   "cell_type": "code",
   "execution_count": null,
   "metadata": {},
   "outputs": [],
   "source": []
  },
  {
   "cell_type": "code",
   "execution_count": 6,
   "metadata": {},
   "outputs": [],
   "source": [
    "locsn = list(zip(map(lambda x: (x + 21.1) * 1.519, fst(locs)), snd(locs)))"
   ]
  },
  {
   "cell_type": "code",
   "execution_count": 36,
   "metadata": {},
   "outputs": [
    {
     "data": {
      "text/plain": [
       "[(85.9754, -0.1),\n",
       " (50.582699999999996, 56.16),\n",
       " (47.089, 27.6),\n",
       " (46.329499999999996, -0.1),\n",
       " (48.0004, -28.32),\n",
       " (51.7979, -57.0),\n",
       " (9.114000000000003, 87.48),\n",
       " (7.443100000000003, 57.48),\n",
       " (6.987400000000002, 28.44),\n",
       " (6.531700000000001, -0.1),\n",
       " (7.291200000000001, -29.64),\n",
       " (8.506400000000001, -58.68),\n",
       " (10.633000000000003, -87.6),\n",
       " (-30.076199999999993, 53.16),\n",
       " (-27.64579999999999, 26.4),\n",
       " (-27.64579999999999, -0.12),\n",
       " (-27.038199999999993, -27.84),\n",
       " (-29.012900000000002, -54.24),\n",
       " (-67.44359999999999, 22.08),\n",
       " (-64.86129999999999, -0.12),\n",
       " (-66.83599999999998, -23.28),\n",
       " (-89.01339999999999, -0.1)]"
      ]
     },
     "execution_count": 36,
     "metadata": {},
     "output_type": "execute_result"
    }
   ],
   "source": [
    "locsn"
   ]
  },
  {
   "cell_type": "code",
   "execution_count": null,
   "metadata": {},
   "outputs": [],
   "source": []
  },
  {
   "cell_type": "code",
   "execution_count": null,
   "metadata": {},
   "outputs": [],
   "source": [
    "# testing rotation (and rescaling to square) before actually adding it to the code."
   ]
  },
  {
   "cell_type": "code",
   "execution_count": 7,
   "metadata": {},
   "outputs": [],
   "source": [
    "def rotate2D(point: list) -> list:\n",
    "    degree = (45 * 2 * pi) / 360\n",
    "    return [point[0] * cos(degree) - point[1] * sin(degree), point[0] * sin(degree) + point[1] * cos(degree)]"
   ]
  },
  {
   "cell_type": "code",
   "execution_count": 8,
   "metadata": {},
   "outputs": [],
   "source": [
    "locsr = np.array(list(map(rotate2D, locsn)))"
   ]
  },
  {
   "cell_type": "code",
   "execution_count": 19,
   "metadata": {},
   "outputs": [
    {
     "data": {
      "text/plain": [
       "array([[  14.46358637,   14.32216501],\n",
       "       [ -50.34465932,   29.07757435],\n",
       "       [ -32.62010861,    6.41218571],\n",
       "       [ -13.57029837,  -13.71171973],\n",
       "       [   7.56575972,  -32.48476837],\n",
       "       [  30.5308202 ,  -50.07935285],\n",
       "       [-101.81404268,   21.90135976],\n",
       "       [ -81.78234397,   -0.4933484 ],\n",
       "       [ -61.5701916 ,  -21.34995789],\n",
       "       [ -41.71159263,  -41.85301398],\n",
       "       [ -20.28661071,  -62.2039007 ],\n",
       "       [   1.10704638,  -81.87900546],\n",
       "       [  23.06030777, -100.82480029],\n",
       "       [-105.25779413,  -30.07820115],\n",
       "       [ -84.61706434,  -47.28182629],\n",
       "       [ -65.8645925 ,  -66.03429813],\n",
       "       [ -45.83395445,  -85.20566003],\n",
       "       [ -28.56265919, -105.26960281],\n",
       "       [-109.7036573 ,  -78.47782185],\n",
       "       [ -92.17992492,  -92.34963055],\n",
       "       [ -77.19965563, -110.12254736],\n",
       "       [-109.27218075, -109.4136021 ]])"
      ]
     },
     "execution_count": 19,
     "metadata": {},
     "output_type": "execute_result"
    }
   ],
   "source": [
    "locsr"
   ]
  },
  {
   "cell_type": "code",
   "execution_count": 69,
   "metadata": {},
   "outputs": [
    {
     "data": {
      "text/plain": [
       "array([[ 35.5 ,  -0.1 ],\n",
       "       [ 12.2 ,  56.16],\n",
       "       [  9.9 ,  27.6 ],\n",
       "       [  9.4 ,  -0.1 ],\n",
       "       [ 10.5 , -28.32],\n",
       "       [ 13.  , -57.  ],\n",
       "       [-15.1 ,  87.48],\n",
       "       [-16.2 ,  57.48],\n",
       "       [-16.5 ,  28.44],\n",
       "       [-16.8 ,  -0.1 ],\n",
       "       [-16.3 , -29.64],\n",
       "       [-15.5 , -58.68],\n",
       "       [-14.1 , -87.6 ],\n",
       "       [-40.9 ,  53.16],\n",
       "       [-39.3 ,  26.4 ],\n",
       "       [-39.3 ,  -0.12],\n",
       "       [-38.9 , -27.84],\n",
       "       [-40.2 , -54.24],\n",
       "       [-65.5 ,  22.08],\n",
       "       [-63.8 ,  -0.12],\n",
       "       [-65.1 , -23.28],\n",
       "       [-79.7 ,  -0.1 ]])"
      ]
     },
     "execution_count": 69,
     "metadata": {},
     "output_type": "execute_result"
    }
   ],
   "source": [
    "locs"
   ]
  },
  {
   "cell_type": "code",
   "execution_count": null,
   "metadata": {},
   "outputs": [],
   "source": []
  },
  {
   "cell_type": "code",
   "execution_count": null,
   "metadata": {},
   "outputs": [],
   "source": []
  },
  {
   "cell_type": "code",
   "execution_count": 9,
   "metadata": {},
   "outputs": [],
   "source": [
    "# def gen_images(locs, features, n_gridpoints, normalize=True,\n",
    "#                augment=False, pca=False, std_mult=0.1, n_components=2, edgeless=False):\n",
    "# needs defined: locs, features, n_gridpoints\n",
    "\n",
    "def interpolate(locs, features, n_gridpoints=32, rotate=True, edge_channels=[0, 6, 12, 21]):\n",
    "    \"\"\"\n",
    "    Generates EEG images given electrode locations in 2D space and multiple feature values for each electrode\n",
    "\n",
    "    :param locs: An array with shape [n_electrodes, 2] containing X, Y coordinates for each electrode.\n",
    "    :param features: Feature matrix as [n_samples, n_features]\n",
    "                        Features are as columns.\n",
    "                        Features corresponding to each frequency band are concatenated.\n",
    "                        (alpha1, alpha2, ..., beta1, beta2,...)\n",
    "    :param n_gridpoints: Number of pixels in the output images\n",
    "    :rotate: If the whole image should be rotated by 45 degrees and fit to a square.\n",
    "    :edge_channels: The indices of the channels with the\n",
    "                    highest, leftmost, rightmost and lowest coordinates.\n",
    "                    Only relevant when rotating.\n",
    "                    (Assuming that Fz is on the x axis to the right.)\n",
    "    \n",
    "    :return:            Tensor of size [samples, colors, W, H] containing generated\n",
    "                        images.\n",
    "    \"\"\"\n",
    "    \n",
    "    if rotate:\n",
    "        high_x = locs[edge_channels[0]][0]\n",
    "        high_y = locs[edge_channels[1]][1]\n",
    "        low_y  = locs[edge_channels[2]][1]\n",
    "        low_x  = locs[edge_channels[3]][0]\n",
    "        \n",
    "        t_x = abs(high_x) + abs(low_x)\n",
    "        t_y = abs(high_y) + abs(low_y)\n",
    "        \n",
    "        factor = t_y / t_x\n",
    "        \n",
    "        # centering:\n",
    "        xdiff = (high_x + low_x) / 2\n",
    "        ydiff = (high_y + low_y) / 2\n",
    "        \n",
    "        locst = zip(map(lambda x: (x - xdiff) * factor, fst(locs)),\n",
    "                    map(lambda y: (y - ydiff), snd(locs)))\n",
    "        \n",
    "        locs = np.array(list(map(rotate2D, locst)))\n",
    "    \n",
    "    cut = lambda a: a if len(a.shape) < 3 else a[:, :, 0]\n",
    "    \n",
    "    feat_array_temp = []\n",
    "    nElectrodes = locs.shape[0]     # Number of electrodes\n",
    "    # Test whether the feature vector length is divisible by number of electrodes\n",
    "    assert features.shape[1] % nElectrodes == 0\n",
    "    n_colors = int(features.shape[1] / nElectrodes)\n",
    "    for c in range(n_colors):\n",
    "        feat_array_temp.append(cut(features[:, c * nElectrodes : nElectrodes * (c+1)]))\n",
    "    nSamples = features.shape[0]\n",
    "    # getting some surrounding values right\n",
    "    grid_x, grid_y = np.mgrid[\n",
    "                     min(locs[:, 0]):max(locs[:, 0]):n_gridpoints*1j,\n",
    "                     min(locs[:, 1]):max(locs[:, 1]):n_gridpoints*1j\n",
    "                     ]\n",
    "    temp_interp = []\n",
    "    for c in range(n_colors):\n",
    "        temp_interp.append(np.zeros([nSamples, n_gridpoints, n_gridpoints]))\n",
    "    # Interpolating\n",
    "    for i in range(nSamples):\n",
    "        for c in range(n_colors):\n",
    "            temp_interp[c][i, :, :] = cut(griddata(locs, feat_array_temp[c][i, :], (grid_x, grid_y),\n",
    "                                    method='cubic', fill_value=np.nan))\n",
    "    #                                 method='cubic', fill_value=np.nan)# [:, :, 0]\n",
    "    #                                 method='cubic', fill_value=np.nan)\n",
    "        print('Interpolating {0}/{1}'.format(i+1, nSamples), end='\\r')\n",
    "    images = np.swapaxes(np.asarray(temp_interp), 0, 1)     # swap axes to have [samples, colors, W, H]\n",
    "    return images"
   ]
  },
  {
   "cell_type": "code",
   "execution_count": 11,
   "metadata": {},
   "outputs": [
    {
     "name": "stdout",
     "output_type": "stream",
     "text": [
      "Interpolating 288/288\r"
     ]
    }
   ],
   "source": [
    "images = interpolate(locsr, features, gridsize)"
   ]
  },
  {
   "cell_type": "code",
   "execution_count": null,
   "metadata": {},
   "outputs": [],
   "source": []
  },
  {
   "cell_type": "code",
   "execution_count": 65,
   "metadata": {},
   "outputs": [
    {
     "data": {
      "text/plain": [
       "(-79.7, 35.5)"
      ]
     },
     "execution_count": 65,
     "metadata": {},
     "output_type": "execute_result"
    }
   ],
   "source": [
    "a, b = minmax(fst(locs))\n",
    "a, b"
   ]
  },
  {
   "cell_type": "code",
   "execution_count": 66,
   "metadata": {},
   "outputs": [
    {
     "data": {
      "text/plain": [
       "-44.2"
      ]
     },
     "execution_count": 66,
     "metadata": {},
     "output_type": "execute_result"
    }
   ],
   "source": [
    "a + b"
   ]
  },
  {
   "cell_type": "code",
   "execution_count": 67,
   "metadata": {},
   "outputs": [
    {
     "data": {
      "text/plain": [
       "-57.6"
      ]
     },
     "execution_count": 67,
     "metadata": {},
     "output_type": "execute_result"
    }
   ],
   "source": [
    "a - (a + b) / 2"
   ]
  },
  {
   "cell_type": "code",
   "execution_count": 68,
   "metadata": {},
   "outputs": [
    {
     "data": {
      "text/plain": [
       "57.6"
      ]
     },
     "execution_count": 68,
     "metadata": {},
     "output_type": "execute_result"
    }
   ],
   "source": [
    "b - (a + b) / 2"
   ]
  },
  {
   "cell_type": "code",
   "execution_count": null,
   "metadata": {},
   "outputs": [],
   "source": []
  },
  {
   "cell_type": "code",
   "execution_count": 52,
   "metadata": {},
   "outputs": [],
   "source": [
    "# mx = interp1d(minmax(fst(locs)), [0, gridsize])\n",
    "# my = interp1d(minmax(snd(locs)), [0, gridsize])"
   ]
  },
  {
   "cell_type": "code",
   "execution_count": null,
   "metadata": {},
   "outputs": [],
   "source": [
    "mx = interp1d"
   ]
  },
  {
   "cell_type": "code",
   "execution_count": null,
   "metadata": {},
   "outputs": [],
   "source": [
    "images2 = images[:]"
   ]
  },
  {
   "cell_type": "code",
   "execution_count": null,
   "metadata": {},
   "outputs": [],
   "source": []
  },
  {
   "cell_type": "code",
   "execution_count": 50,
   "metadata": {},
   "outputs": [
    {
     "name": "stdout",
     "output_type": "stream",
     "text": [
      "Saving 288/288\r"
     ]
    }
   ],
   "source": [
    "for i in range(images.shape[0]):\n",
    "    print('Saving {0}/{1}'.format(i+1, images.shape[0]), end='\\r')\n",
    "    # for i in range(22):\n",
    "    #     plt.text(my(locsr[i][1]), mx(locsr[i][0]), channel_labels[i])\n",
    "    plt.imshow(images[i,0,:,:], cmap='RdYlBu') # , interpolation='bilinear')\n",
    "    plt.savefig(os.path.join('images3/','%d.png' % i))\n",
    "    plt.close()"
   ]
  },
  {
   "cell_type": "code",
   "execution_count": 14,
   "metadata": {},
   "outputs": [],
   "source": [
    "a = np.array([])"
   ]
  },
  {
   "cell_type": "code",
   "execution_count": 12,
   "metadata": {},
   "outputs": [
    {
     "data": {
      "text/plain": [
       "(288, 1, 32, 32)"
      ]
     },
     "execution_count": 12,
     "metadata": {},
     "output_type": "execute_result"
    }
   ],
   "source": [
    "images.shape"
   ]
  },
  {
   "cell_type": "code",
   "execution_count": null,
   "metadata": {},
   "outputs": [],
   "source": []
  },
  {
   "cell_type": "code",
   "execution_count": null,
   "metadata": {},
   "outputs": [],
   "source": [
    "i = 0\n",
    "plt.imshow(rotate(images[i,0,:,:], 45, cval=np.nan, prefilter=False), cmap='RdYlBu')\n",
    "plt.savefig(os.path.join('images4/','%d.png' % i))\n",
    "plt.show()\n",
    "plt.close()\n",
    "plt.imshow(images[i,0,:,:], cmap='RdYlBu')\n",
    "plt.show()\n",
    "plt.close()\n",
    "# plt.savefig(os.path.join('images4/','%d.png' % i))\n",
    "# plt.close()"
   ]
  },
  {
   "cell_type": "code",
   "execution_count": null,
   "metadata": {},
   "outputs": [],
   "source": []
  },
  {
   "cell_type": "code",
   "execution_count": null,
   "metadata": {},
   "outputs": [],
   "source": []
  },
  {
   "cell_type": "code",
   "execution_count": 16,
   "metadata": {},
   "outputs": [],
   "source": [
    "tight_cap_positions = [\n",
    "    ['', '', '', '', 'Fp1', 'FPz', 'Fp2', '', '', '', ''],\n",
    "    ['', '', '', 'AFp3h', '', '', '', 'Afp4h', '', '', ''],\n",
    "    ['', 'AF7', 'AF5', 'AF3', 'AF1', 'AFz', 'AF2', 'AF4', 'AF6', 'AF8', ''],\n",
    "    ['', '', 'AFF5h', '', 'AFF1', '', 'AFF2', '', 'AFF6h', '', ''],\n",
    "    ['', 'F7', 'F5', 'F3', 'F1', 'Fz', 'F2', 'F4', 'F6', 'F8', ''],\n",
    "    ['FFT9h', 'FFT7h', 'FFC5h', 'FFC3h', 'FFC1h', '', 'FFC2h', 'FFC4h', 'FFC6h', 'FFT8h', 'FFT10h'],\n",
    "    ['FT9', 'FT7', 'FC5', 'FC3', 'FC1', 'FCz', 'FC2', 'FC4', 'FC6', 'FT8', 'FT10'],\n",
    "    ['FTT9h', 'FTT7h', 'FCC5h', 'FCC3h', 'FCC1h', '', 'FCC2h', 'FCC4h', 'FCC6h', 'FTT8h', 'FTT10h'],\n",
    "    ['M1', 'T7', 'C5', 'C3', 'C1', 'Cz', 'C2', 'C4', 'C6', 'T8', 'M2'],\n",
    "    ['', 'TTP7h', 'CCP5h', 'CCP3h', 'CCP1h', '', 'CCP2h', 'CCP4h', 'CCP6h', 'TTP8h', ''],\n",
    "    ['TP9', 'TP7', 'CP5', 'CP3', 'CP1', 'CPz', 'CP2', 'CP4', 'CP6', 'TP8', 'TP10'],\n",
    "    ['TPP9h', 'TPP7h', 'CPP5h', 'CPP3h', 'CPP1h', '', 'CPP2h', 'CPP4h', 'CPP6h', 'TPP8h', 'TPP10h'],\n",
    "    ['P9', 'P7', 'P5', 'P3', 'P1', 'Pz', 'P2', 'P4', 'P6', 'P8', 'P10'],\n",
    "    ['PPO9h', '', 'PPO5h', '', 'PPO1', '', 'PPO2', '', 'PPO6h', '', 'PPO10h'],\n",
    "    ['PO9', 'PO7', 'PO5', 'PO3', 'PO1', 'POz', 'PO2', 'PO4', 'PO6', 'PO8', 'PO10'],\n",
    "    ['POO9h', '', '', 'POO3h', '', '', '', 'POO4h', '', '', 'POO10h'],\n",
    "    ['', '', '', '', 'O1', 'Oz', 'O2', '', '', '', ''],\n",
    "    ['', '', '', '', 'OI1h', '', 'OI2h', '', '', '', ''],\n",
    "    ['', '', '', '', 'I1', 'Iz', 'I2', '', '', '', '']]\n",
    "\n"
   ]
  },
  {
   "cell_type": "code",
   "execution_count": 17,
   "metadata": {},
   "outputs": [],
   "source": [
    "def mapper(locs):\n",
    "    def actual(values):\n",
    "        nmap = np.empty((19, 11))\n",
    "        for i, row in enumerate(tight_cap_positions):\n",
    "            for j, col in enumerate(row):\n",
    "                if col in locs:\n",
    "                    ind = locs.index(col)\n",
    "                    nmap[i, j] = values[ind]\n",
    "                else:\n",
    "                    nmap[i, j] = np.nan\n",
    "        return nmap\n",
    "    return actual"
   ]
  },
  {
   "cell_type": "code",
   "execution_count": null,
   "metadata": {},
   "outputs": [],
   "source": []
  },
  {
   "cell_type": "code",
   "execution_count": 22,
   "metadata": {},
   "outputs": [],
   "source": [
    "a = mapper(channel_labels)"
   ]
  },
  {
   "cell_type": "code",
   "execution_count": 24,
   "metadata": {},
   "outputs": [
    {
     "data": {
      "text/plain": [
       "<matplotlib.image.AxesImage at 0x7fabb9c7c470>"
      ]
     },
     "execution_count": 24,
     "metadata": {},
     "output_type": "execute_result"
    },
    {
     "data": {
      "image/png": "[encoded data removed]",
      "text/plain": [
       "<Figure size 432x288 with 1 Axes>"
      ]
     },
     "metadata": {
      "needs_background": "light"
     },
     "output_type": "display_data"
    }
   ],
   "source": [
    "plt.imshow(a(features[0, :, 0]), cmap='RdYlBu')"
   ]
  },
  {
   "cell_type": "code",
   "execution_count": 19,
   "metadata": {},
   "outputs": [
    {
     "data": {
      "text/plain": [
       "(288, 22, 1125)"
      ]
     },
     "execution_count": 19,
     "metadata": {},
     "output_type": "execute_result"
    }
   ],
   "source": [
    "# L.train_set.X.shape"
   ]
  },
  {
   "cell_type": "code",
   "execution_count": null,
   "metadata": {},
   "outputs": [],
   "source": []
  }
 ],
 "metadata": {
  "kernelspec": {
   "display_name": "Python 3",
   "language": "python",
   "name": "python3"
  },
  "language_info": {
   "codemirror_mode": {
    "name": "ipython",
    "version": 3
   },
   "file_extension": ".py",
   "mimetype": "text/x-python",
   "name": "python",
   "nbconvert_exporter": "python",
   "pygments_lexer": "ipython3",
   "version": "3.6.7"
  }
 },
 "nbformat": 4,
 "nbformat_minor": 1
}
